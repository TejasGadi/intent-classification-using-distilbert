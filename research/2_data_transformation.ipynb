{
 "cells": [
  {
   "cell_type": "code",
   "execution_count": 1,
   "id": "cf1439fb",
   "metadata": {},
   "outputs": [
    {
     "name": "stdout",
     "output_type": "stream",
     "text": [
      "/Users/tejasgadi/Local_Disk_D/Machine_Learning_Projects/intent_classification/research\n"
     ]
    }
   ],
   "source": [
    "import os\n",
    "!pwd"
   ]
  },
  {
   "cell_type": "code",
   "execution_count": 2,
   "id": "09d47da5",
   "metadata": {},
   "outputs": [
    {
     "name": "stdout",
     "output_type": "stream",
     "text": [
      "/Users/tejasgadi/Local_Disk_D/Machine_Learning_Projects/intent_classification\n"
     ]
    }
   ],
   "source": [
    "# Goto Root directory of the project\n",
    "os.chdir(\"../\")\n",
    "!pwd"
   ]
  },
  {
   "cell_type": "code",
   "execution_count": 3,
   "id": "db03b28f",
   "metadata": {},
   "outputs": [],
   "source": [
    "# Data Ingestion Config Schema/Data Class\n",
    "from dataclasses import dataclass\n",
    "from pathlib import Path\n",
    "\n",
    "@dataclass\n",
    "class DataTransformationConfig:\n",
    "    root_dir: Path\n",
    "    data_path: Path\n",
    "    tokenizer_name: Path\n",
    "    local_train_csv_path: Path\n",
    "    local_test_csv_path: Path"
   ]
  },
  {
   "cell_type": "code",
   "execution_count": 4,
   "id": "8e34bdae",
   "metadata": {},
   "outputs": [],
   "source": [
    "from src.textClassifier.constants import *\n",
    "from src.textClassifier.utils.common import read_yaml, create_directories\n",
    "from box import ConfigBox"
   ]
  },
  {
   "cell_type": "markdown",
   "id": "9b7b8016",
   "metadata": {},
   "source": [
    "## Config Manager"
   ]
  },
  {
   "cell_type": "code",
   "execution_count": 5,
   "id": "e72b25d5",
   "metadata": {},
   "outputs": [],
   "source": [
    "# Create Configuration Manager: This has basic information required before staring any module/components\n",
    "\n",
    "class ConfigurationManager:\n",
    "    def __init__(self, config_path = CONFIG_FILE_PATH, params_path = PARAMS_FILE_PATH):\n",
    "        self.config:ConfigBox = read_yaml(config_path)\n",
    "        self.params:ConfigBox = read_yaml(params_path)\n",
    "\n",
    "        # Create Artifacts Root dir\n",
    "        create_directories([self.config.artifacts_root])\n",
    "    \n",
    "    def get_data_transformation_config(self)->DataTransformationConfig:\n",
    "        config = self.config.data_transformation\n",
    "\n",
    "        create_directories([config.root_dir])\n",
    "\n",
    "        data_transformation_config = DataTransformationConfig(\n",
    "            root_dir=config.root_dir,\n",
    "            data_path=config.data_path,\n",
    "            tokenizer_name=config.tokenizer_name,\n",
    "            local_train_csv_path= config.local_train_csv_path,\n",
    "            local_test_csv_path= config.local_test_csv_path\n",
    "        ) \n",
    "\n",
    "        return data_transformation_config\n"
   ]
  },
  {
   "cell_type": "code",
   "execution_count": 6,
   "id": "75374997",
   "metadata": {},
   "outputs": [
    {
     "name": "stderr",
     "output_type": "stream",
     "text": [
      "/Users/tejasgadi/Local_Disk_D/Machine_Learning_Projects/intent_classification/venv/lib/python3.12/site-packages/tqdm/auto.py:21: TqdmWarning: IProgress not found. Please update jupyter and ipywidgets. See https://ipywidgets.readthedocs.io/en/stable/user_install.html\n",
      "  from .autonotebook import tqdm as notebook_tqdm\n"
     ]
    },
    {
     "name": "stdout",
     "output_type": "stream",
     "text": [
      "[2025-05-10 23:07:14,918 : INFO: config: PyTorch version 2.7.0 available.]\n"
     ]
    }
   ],
   "source": [
    "## Data Transfomation operation libraries import\n",
    "\n",
    "import os\n",
    "from src.textClassifier.logging import logger\n",
    "from transformers import DistilBertTokenizer\n",
    "from datasets import load_dataset"
   ]
  },
  {
   "cell_type": "markdown",
   "id": "80efe652",
   "metadata": {},
   "source": [
    "## Data Transformation Component"
   ]
  },
  {
   "cell_type": "code",
   "execution_count": 7,
   "id": "5512b77a",
   "metadata": {},
   "outputs": [],
   "source": [
    "class DataTransformation:\n",
    "    def __init__(self, data_transformation_config: DataTransformationConfig):\n",
    "        self.config = data_transformation_config\n",
    "\n",
    "        self.tokenizer = DistilBertTokenizer.from_pretrained(\"distilbert-base-uncased\")\n",
    "\n",
    "        self.label2id = {\n",
    "            \"Intent_Lease_Abstraction\": 0,\n",
    "            \"Intent_Comparison_LOI_Lease\": 1,\n",
    "            \"Intent_Clause_Protect\": 2,\n",
    "            \"Intent_Company_research\": 3,\n",
    "            \"Intent_Transaction_Date_navigator\": 4,\n",
    "            \"Intent_Amendment_Abstraction\": 5,\n",
    "            \"Intent_Sales_Listings_Comparison\": 6,\n",
    "            \"Intent_Lease_Listings_Comparison\": 7,\n",
    "        }\n",
    "\n",
    "        self.id2label = {v: k for k, v in self.label2id.items()}\n",
    "\n",
    "    # Preprocessing function with label mapping\n",
    "    def preprocess_function(self,examples):\n",
    "        # Tokenize the text field\n",
    "        tokenized = self.tokenizer(examples['email_text'], padding=\"max_length\", truncation=True)\n",
    "\n",
    "        # Convert class labels to integers\n",
    "        tokenized[\"labels\"] = [self.label2id[label] for label in examples[\"intent\"]]\n",
    "        return tokenized\n",
    "\n",
    "\n",
    "    def apply_transformation_to_dataset(self):\n",
    "        # Load local CSV file\n",
    "        raw_dataset = load_dataset(\n",
    "            'csv',\n",
    "            data_files={\n",
    "                'train': self.config.local_train_csv_path,\n",
    "                'validation': self.config.local_test_csv_path\n",
    "            }\n",
    "        )\n",
    "\n",
    "\n",
    "        # Apply preprocessing\n",
    "        encoded_dataset = raw_dataset.map(self.preprocess_function, batched=True)\n",
    "\n",
    "        encoded_dataset.save_to_disk(os.path.join(self.config.root_dir, \"intent-dataset\"))\n"
   ]
  },
  {
   "cell_type": "code",
   "execution_count": 8,
   "id": "965b7531",
   "metadata": {},
   "outputs": [
    {
     "name": "stdout",
     "output_type": "stream",
     "text": [
      "[2025-05-10 23:07:15,133 : INFO: common: yaml file: config/config.yaml is loaded sucessfully]\n",
      "[2025-05-10 23:07:15,135 : INFO: common: yaml file: params.yaml is loaded sucessfully]\n",
      "[2025-05-10 23:07:15,135 : INFO: common: Created directory at: artifacts]\n",
      "[2025-05-10 23:07:15,136 : INFO: common: Created directory at: artifacts/data_transformation]\n"
     ]
    },
    {
     "name": "stderr",
     "output_type": "stream",
     "text": [
      "Generating train split: 8000 examples [00:00, 515065.12 examples/s]\n",
      "Generating validation split: 800 examples [00:00, 290162.85 examples/s]\n",
      "Map: 100%|██████████| 8000/8000 [00:01<00:00, 4864.38 examples/s]\n",
      "Map: 100%|██████████| 800/800 [00:00<00:00, 5270.09 examples/s]\n",
      "Saving the dataset (1/1 shards): 100%|██████████| 8000/8000 [00:00<00:00, 607221.12 examples/s]\n",
      "Saving the dataset (1/1 shards): 100%|██████████| 800/800 [00:00<00:00, 172339.15 examples/s]\n"
     ]
    }
   ],
   "source": [
    "# Instantiate and call the data transformation methods\n",
    "config = ConfigurationManager()\n",
    "\n",
    "data_transformation_config = config.get_data_transformation_config()\n",
    "\n",
    "data_transformation = DataTransformation(data_transformation_config)\n",
    "\n",
    "data_transformation.apply_transformation_to_dataset()"
   ]
  },
  {
   "cell_type": "code",
   "execution_count": null,
   "id": "b4e39a9d",
   "metadata": {},
   "outputs": [],
   "source": []
  },
  {
   "cell_type": "code",
   "execution_count": null,
   "id": "858c9ca9",
   "metadata": {},
   "outputs": [],
   "source": []
  },
  {
   "cell_type": "code",
   "execution_count": null,
   "id": "44a23ece",
   "metadata": {},
   "outputs": [],
   "source": []
  },
  {
   "cell_type": "code",
   "execution_count": null,
   "id": "9b66f368",
   "metadata": {},
   "outputs": [],
   "source": []
  }
 ],
 "metadata": {
  "kernelspec": {
   "display_name": "venv",
   "language": "python",
   "name": "python3"
  },
  "language_info": {
   "codemirror_mode": {
    "name": "ipython",
    "version": 3
   },
   "file_extension": ".py",
   "mimetype": "text/x-python",
   "name": "python",
   "nbconvert_exporter": "python",
   "pygments_lexer": "ipython3",
   "version": "3.12.4"
  }
 },
 "nbformat": 4,
 "nbformat_minor": 5
}
